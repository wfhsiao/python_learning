{
  "nbformat": 4,
  "nbformat_minor": 0,
  "metadata": {
    "colab": {
      "name": "week2.ipynb",
      "provenance": [],
      "collapsed_sections": []
    },
    "kernelspec": {
      "name": "python3",
      "display_name": "Python 3"
    }
  },
  "cells": [
    {
      "cell_type": "markdown",
      "metadata": {
        "id": "1NzyF2Z2dHhi",
        "colab_type": "text"
      },
      "source": [
        "# 網路程式設計 week 2 (2019/9/17)"
      ]
    },
    {
      "cell_type": "code",
      "metadata": {
        "id": "74pq6dzGLTMG",
        "colab_type": "code",
        "colab": {}
      },
      "source": [
        "import keyword"
      ],
      "execution_count": null,
      "outputs": []
    },
    {
      "cell_type": "code",
      "metadata": {
        "id": "5VZ3CAVP-ost",
        "colab_type": "code",
        "colab": {
          "base_uri": "https://localhost:8080/",
          "height": 55
        },
        "outputId": "3249718c-15d8-457c-f921-ce788db2fd03"
      },
      "source": [
        "# 印出保留字(reserved keywords), reserved keywords are keywords reserved for python, and you cannot use them as variables\n",
        "print(keyword.kwlist)"
      ],
      "execution_count": null,
      "outputs": [
        {
          "output_type": "stream",
          "text": [
            "['False', 'None', 'True', 'and', 'as', 'assert', 'break', 'class', 'continue', 'def', 'del', 'elif', 'else', 'except', 'finally', 'for', 'from', 'global', 'if', 'import', 'in', 'is', 'lambda', 'nonlocal', 'not', 'or', 'pass', 'raise', 'return', 'try', 'while', 'with', 'yield']\n"
          ],
          "name": "stdout"
        }
      ]
    },
    {
      "cell_type": "code",
      "metadata": {
        "id": "SyGVO_rK-9QA",
        "colab_type": "code",
        "colab": {
          "base_uri": "https://localhost:8080/",
          "height": 34
        },
        "outputId": "03871176-2375-4a49-f2b3-99a92910b2ed"
      },
      "source": [
        "kws = keyword.kwlist\n",
        "len(kws)"
      ],
      "execution_count": null,
      "outputs": [
        {
          "output_type": "execute_result",
          "data": {
            "text/plain": [
              "33"
            ]
          },
          "metadata": {
            "tags": []
          },
          "execution_count": 4
        }
      ]
    },
    {
      "cell_type": "code",
      "metadata": {
        "id": "Sp5IeEzNDdVf",
        "colab_type": "code",
        "colab": {
          "base_uri": "https://localhost:8080/",
          "height": 35
        },
        "outputId": "6fa1c5d8-76c9-44d3-c487-43e56a9010d4"
      },
      "source": [
        "s3='Hello\\b\\bWorld.'\n",
        "print(s3)"
      ],
      "execution_count": 9,
      "outputs": [
        {
          "output_type": "stream",
          "text": [
            "Hello\b\bWorld.\n"
          ],
          "name": "stdout"
        }
      ]
    },
    {
      "cell_type": "code",
      "metadata": {
        "id": "rRalQ7NN_Hdp",
        "colab_type": "code",
        "colab": {
          "base_uri": "https://localhost:8080/",
          "height": 85
        },
        "outputId": "f7266391-bd11-4916-e822-38af30575dd5"
      },
      "source": [
        "# try to print them out 10 elements in a row\n",
        "for i, kw in enumerate(kws):\n",
        "    print(kw, end=' ')\n",
        "    if i%10 == 9:\n",
        "        print()"
      ],
      "execution_count": null,
      "outputs": [
        {
          "output_type": "stream",
          "text": [
            "False None True and as assert break class continue def \n",
            "del elif else except finally for from global if import \n",
            "in is lambda nonlocal not or pass raise return try \n",
            "while with yield "
          ],
          "name": "stdout"
        }
      ]
    },
    {
      "cell_type": "code",
      "metadata": {
        "id": "-ZCsAvea_hIo",
        "colab_type": "code",
        "colab": {
          "base_uri": "https://localhost:8080/",
          "height": 52
        },
        "outputId": "4812f604-95f2-45bd-9db9-63b5b337331c"
      },
      "source": [
        "print(True==1)\n",
        "print(True == 1)"
      ],
      "execution_count": null,
      "outputs": [
        {
          "output_type": "stream",
          "text": [
            "True\n",
            "True\n"
          ],
          "name": "stdout"
        }
      ]
    },
    {
      "cell_type": "code",
      "metadata": {
        "id": "tYcdESNOAJJs",
        "colab_type": "code",
        "colab": {
          "base_uri": "https://localhost:8080/",
          "height": 52
        },
        "outputId": "c9ccc6ae-c759-4f49-b9be-00dc6c1304bb"
      },
      "source": [
        "print(False == 0)\n",
        "print(False==0)"
      ],
      "execution_count": null,
      "outputs": [
        {
          "output_type": "stream",
          "text": [
            "True\n",
            "True\n"
          ],
          "name": "stdout"
        }
      ]
    },
    {
      "cell_type": "code",
      "metadata": {
        "id": "oP9Q5kO7ASdP",
        "colab_type": "code",
        "colab": {
          "base_uri": "https://localhost:8080/",
          "height": 131
        },
        "outputId": "d63fba04-6d72-413c-abd2-11f9a7eccbc5"
      },
      "source": [
        "# use one equal sign means assignment, you cannot assign value to a reserved keyword\n",
        "True=1"
      ],
      "execution_count": null,
      "outputs": [
        {
          "output_type": "error",
          "ename": "SyntaxError",
          "evalue": "ignored",
          "traceback": [
            "\u001b[0;36m  File \u001b[0;32m\"<ipython-input-8-cd027a99ded3>\"\u001b[0;36m, line \u001b[0;32m1\u001b[0m\n\u001b[0;31m    True=1\u001b[0m\n\u001b[0m          ^\u001b[0m\n\u001b[0;31mSyntaxError\u001b[0m\u001b[0;31m:\u001b[0m can't assign to keyword\n"
          ]
        }
      ]
    },
    {
      "cell_type": "code",
      "metadata": {
        "id": "DPNza7TQAT9J",
        "colab_type": "code",
        "colab": {
          "base_uri": "https://localhost:8080/",
          "height": 87
        },
        "outputId": "ebe9c573-c923-45b4-c439-fc17486bdde6"
      },
      "source": [
        "print(None==0)\n",
        "print(None==1)\n",
        "print(None==None)\n",
        "print(None!=None)"
      ],
      "execution_count": null,
      "outputs": [
        {
          "output_type": "stream",
          "text": [
            "False\n",
            "False\n",
            "True\n",
            "False\n"
          ],
          "name": "stdout"
        }
      ]
    },
    {
      "cell_type": "markdown",
      "metadata": {
        "id": "ODnhSaS7AqOw",
        "colab_type": "text"
      },
      "source": [
        "**The moral is: None cannot convert to any other data type, nor can it used to comparison**"
      ]
    },
    {
      "cell_type": "code",
      "metadata": {
        "id": "VvdR7oFxAmKZ",
        "colab_type": "code",
        "colab": {
          "base_uri": "https://localhost:8080/",
          "height": 35
        },
        "outputId": "aa494875-7204-4fb9-f384-a54d0520e292"
      },
      "source": [
        "a=None\n",
        "b=None\n",
        "a==b"
      ],
      "execution_count": null,
      "outputs": [
        {
          "output_type": "execute_result",
          "data": {
            "text/plain": [
              "True"
            ]
          },
          "metadata": {
            "tags": []
          },
          "execution_count": 12
        }
      ]
    },
    {
      "cell_type": "code",
      "metadata": {
        "id": "j0dbLbpRBFVo",
        "colab_type": "code",
        "colab": {}
      },
      "source": [
        "# multiple lines comments, use triple \" or '\n",
        "\n",
        "\"\"\"line 1\n",
        "line 2\n",
        "line 3\"\"\"\n",
        "\n",
        "# or\n",
        "\"\"\"\n",
        "line 1\n",
        "line 2\n",
        "line 3\n",
        "\"\"\"\n",
        "\n",
        "# or\n",
        "'''line 1\n",
        "line 2\n",
        "line 3'''\n",
        "\n",
        "#or\n",
        "'''\n",
        "line 1\n",
        "line 2\n",
        "line 3\n",
        "'''"
      ],
      "execution_count": null,
      "outputs": []
    },
    {
      "cell_type": "code",
      "metadata": {
        "id": "BNo2Zj63EQl9",
        "colab_type": "code",
        "colab": {
          "base_uri": "https://localhost:8080/",
          "height": 35
        },
        "outputId": "79331610-bc07-4f6c-c4bc-537b6599e825"
      },
      "source": [
        "# use single quote (') or double quote (\") for string values\n",
        "a = \"Hello\"\n",
        "b = 'world'\n",
        "c = '張三丰'\n",
        "print(a, b, c)"
      ],
      "execution_count": null,
      "outputs": [
        {
          "output_type": "stream",
          "text": [
            "Hello world 張三丰\n"
          ],
          "name": "stdout"
        }
      ]
    },
    {
      "cell_type": "code",
      "metadata": {
        "id": "IK-nkTaSFgcn",
        "colab_type": "code",
        "colab": {
          "base_uri": "https://localhost:8080/",
          "height": 35
        },
        "outputId": "bd59de8b-6819-43a6-dc3e-752c7d11befd"
      },
      "source": [
        "# 要印出雙引號就用單引號來括; 要印出單引號就用雙引號來括\n",
        "a='\"Hello\"'\n",
        "b=\"'world'\"\n",
        "c, d=\"'張三丰'\", 38\n",
        "print(a,b,c, d)"
      ],
      "execution_count": null,
      "outputs": [
        {
          "output_type": "stream",
          "text": [
            "\"Hello\" 'world' '張三丰' 38\n"
          ],
          "name": "stdout"
        }
      ]
    },
    {
      "cell_type": "code",
      "metadata": {
        "id": "4Iaq5MZuF9D2",
        "colab_type": "code",
        "colab": {
          "base_uri": "https://localhost:8080/",
          "height": 52
        },
        "outputId": "27488517-c2ed-44e6-9471-28f00ad4604c"
      },
      "source": [
        "a='\"Hello\"\\b\\b\\n'\n",
        "b=\"'world'\"\n",
        "print(a, b)"
      ],
      "execution_count": null,
      "outputs": [
        {
          "output_type": "stream",
          "text": [
            "\"Hello\"\b\b\n",
            " 'world'\n"
          ],
          "name": "stdout"
        }
      ]
    },
    {
      "cell_type": "code",
      "metadata": {
        "id": "Bo7Ni3J4GNyN",
        "colab_type": "code",
        "colab": {
          "base_uri": "https://localhost:8080/",
          "height": 52
        },
        "outputId": "e13d22d7-a448-4c81-847d-09486fcd560f"
      },
      "source": [
        "print(type(c))\n",
        "print(type(d))"
      ],
      "execution_count": null,
      "outputs": [
        {
          "output_type": "stream",
          "text": [
            "<class 'str'>\n",
            "<class 'int'>\n"
          ],
          "name": "stdout"
        }
      ]
    },
    {
      "cell_type": "code",
      "metadata": {
        "id": "uBHOJoMWS2fV",
        "colab_type": "code",
        "colab": {
          "base_uri": "https://localhost:8080/",
          "height": 85
        },
        "outputId": "e253ba4b-9c28-41db-99d0-a2e1ddc0d619"
      },
      "source": [
        "# try to print them out 10 elements in a row\n",
        "for i, kw in enumerate(kws):\n",
        "    print('{:>10}'.format(kw), end='')\n",
        "    if i%10 == 9:\n",
        "        print()"
      ],
      "execution_count": null,
      "outputs": [
        {
          "output_type": "stream",
          "text": [
            "     False      None      True       and        as    assert     break     class  continue       def\n",
            "       del      elif      else    except   finally       for      from    global        if    import\n",
            "        in        is    lambda  nonlocal       not        or      pass     raise    return       try\n",
            "     while      with     yield"
          ],
          "name": "stdout"
        }
      ]
    },
    {
      "cell_type": "code",
      "metadata": {
        "id": "82ARUWraHPIV",
        "colab_type": "code",
        "colab": {
          "base_uri": "https://localhost:8080/",
          "height": 329
        },
        "outputId": "c2238a5d-c19d-45c3-80b1-a230de5cab1b"
      },
      "source": [
        "!pip install dragonmapper"
      ],
      "execution_count": null,
      "outputs": [
        {
          "output_type": "stream",
          "text": [
            "Collecting dragonmapper\n",
            "\u001b[?25l  Downloading https://files.pythonhosted.org/packages/41/d7/cd3eda4bd4b3fdc19440209e5f9682bad817daa21879db5771ad6a8ae5d8/dragonmapper-0.2.6-py2.py3-none-any.whl (1.4MB)\n",
            "\u001b[K     |████████████████████████████████| 1.4MB 2.9MB/s \n",
            "\u001b[?25hCollecting hanzidentifier>=1.0.2 (from dragonmapper)\n",
            "  Downloading https://files.pythonhosted.org/packages/48/f8/3903525d9f63de307dfcf311be64d43e6ab88aa175b6daa4d159d17b3933/hanzidentifier-1.0.2.tar.gz\n",
            "Collecting zhon>=1.1.3 (from dragonmapper)\n",
            "\u001b[?25l  Downloading https://files.pythonhosted.org/packages/9f/b0/c56c6079ad47c35a2341440818b6620de8c46a265ed690a51b1a4e5591bc/zhon-1.1.5.tar.gz (99kB)\n",
            "\u001b[K     |████████████████████████████████| 102kB 27.6MB/s \n",
            "\u001b[?25hBuilding wheels for collected packages: hanzidentifier, zhon\n",
            "  Building wheel for hanzidentifier (setup.py) ... \u001b[?25l\u001b[?25hdone\n",
            "  Created wheel for hanzidentifier: filename=hanzidentifier-1.0.2-cp36-none-any.whl size=4730 sha256=da00c2075d4c8d8d0864ae519e92ca4555ae29890c1a339794c29b4173145c55\n",
            "  Stored in directory: /root/.cache/pip/wheels/79/ef/cb/0b668ccd8c0d9dd94e59bfed1f9404ea50b2bace3b37c86351\n",
            "  Building wheel for zhon (setup.py) ... \u001b[?25l\u001b[?25hdone\n",
            "  Created wheel for zhon: filename=zhon-1.1.5-cp36-none-any.whl size=84293 sha256=b05fe4b6469b3a92a4c1b512aa001aaa51363792ef62d903e4d3f602357ad033\n",
            "  Stored in directory: /root/.cache/pip/wheels/0e/93/5a/ad2f403c359ba996e33c21bf18611d921413df9740ede2fcf4\n",
            "Successfully built hanzidentifier zhon\n",
            "Installing collected packages: zhon, hanzidentifier, dragonmapper\n",
            "Successfully installed dragonmapper-0.2.6 hanzidentifier-1.0.2 zhon-1.1.5\n"
          ],
          "name": "stdout"
        }
      ]
    },
    {
      "cell_type": "code",
      "metadata": {
        "id": "REk12DSfcEhJ",
        "colab_type": "code",
        "colab": {}
      },
      "source": [
        "from dragonmapper import hanzi"
      ],
      "execution_count": null,
      "outputs": []
    },
    {
      "cell_type": "code",
      "metadata": {
        "id": "MqAh6p4Pc4j8",
        "colab_type": "code",
        "colab": {
          "base_uri": "https://localhost:8080/",
          "height": 35
        },
        "outputId": "f877afd0-9fb4-4d64-b6b9-cdbc0de071ca"
      },
      "source": [
        "s='這個字怎麼念?'\n",
        "s=' '.join(list(s))\n",
        "print(s)"
      ],
      "execution_count": null,
      "outputs": [
        {
          "output_type": "stream",
          "text": [
            "這 個 字 怎 麼 念 ?\n"
          ],
          "name": "stdout"
        }
      ]
    },
    {
      "cell_type": "code",
      "metadata": {
        "id": "RQhniznGdVhp",
        "colab_type": "code",
        "colab": {
          "base_uri": "https://localhost:8080/",
          "height": 52
        },
        "outputId": "9142e6b2-574e-48d2-9e74-1ed7a2b56d45"
      },
      "source": [
        "trans=hanzi.to_zhuyin(s)\n",
        "print(trans)\n",
        "trans=hanzi.to_zhuyin(s, all_readings=True)\n",
        "print(trans)"
      ],
      "execution_count": null,
      "outputs": [
        {
          "output_type": "stream",
          "text": [
            "ㄓㄜˋ ㄍㄜˋ ㄗˋ ㄗㄣˇ ㄇㄜ˙ ㄋㄧㄢˋ ?\n",
            "[ㄓㄜˋ/ㄧㄢˋ/ㄓㄟˋ] [ㄍㄜˋ/ㄍㄜ˙/ㄍㄜˇ] [ㄗˋ/ㄗ˙] [ㄗㄣˇ] [ㄇㄜ˙] [ㄋㄧㄢˋ] ?\n"
          ],
          "name": "stdout"
        }
      ]
    },
    {
      "cell_type": "code",
      "metadata": {
        "id": "_1dK6lQudwc4",
        "colab_type": "code",
        "colab": {
          "base_uri": "https://localhost:8080/",
          "height": 35
        },
        "outputId": "371a86b1-7483-4406-fe50-05c2cfb3024e"
      },
      "source": [
        "trans=hanzi.to_pinyin(s)\n",
        "trans"
      ],
      "execution_count": null,
      "outputs": [
        {
          "output_type": "execute_result",
          "data": {
            "text/plain": [
              "'zhè gè zì zěn me niàn ?'"
            ]
          },
          "metadata": {
            "tags": []
          },
          "execution_count": 7
        }
      ]
    },
    {
      "cell_type": "code",
      "metadata": {
        "id": "w-20_HE-d0GA",
        "colab_type": "code",
        "colab": {
          "base_uri": "https://localhost:8080/",
          "height": 69
        },
        "outputId": "83e25696-3cfe-4edf-9a9c-13e77cc33e5e"
      },
      "source": [
        "u=6/7\n",
        "print(u)\n",
        "v=1/7\n",
        "print(v)\n",
        "s=u+v\n",
        "print(s)"
      ],
      "execution_count": null,
      "outputs": [
        {
          "output_type": "stream",
          "text": [
            "0.8571428571428571\n",
            "0.14285714285714285\n",
            "1.0\n"
          ],
          "name": "stdout"
        }
      ]
    },
    {
      "cell_type": "code",
      "metadata": {
        "id": "Tmn6c54OFCAD",
        "colab_type": "code",
        "colab": {
          "base_uri": "https://localhost:8080/",
          "height": 35
        },
        "outputId": "2724db19-c999-478b-eb6c-3f899f2f0c17"
      },
      "source": [
        "# use %d for integer, %f for float, %s for string\n",
        "print('%.5f + %.5f = %.5f' % (u, v, s))"
      ],
      "execution_count": null,
      "outputs": [
        {
          "output_type": "stream",
          "text": [
            "0.85714 + 0.14286 = 1.00000\n"
          ],
          "name": "stdout"
        }
      ]
    },
    {
      "cell_type": "code",
      "metadata": {
        "id": "5y-YRmFuFGDg",
        "colab_type": "code",
        "colab": {
          "base_uri": "https://localhost:8080/",
          "height": 35
        },
        "outputId": "23014b7f-3b7e-4a83-bd96-12005f3acb06"
      },
      "source": [
        "# the newer style is {}\n",
        "print('{}+{}={}'.format(u,v,s))"
      ],
      "execution_count": null,
      "outputs": [
        {
          "output_type": "stream",
          "text": [
            "0.8571428571428571+0.14285714285714285=1.0\n"
          ],
          "name": "stdout"
        }
      ]
    },
    {
      "cell_type": "code",
      "metadata": {
        "id": "FHJ5OURZFKG9",
        "colab_type": "code",
        "colab": {
          "base_uri": "https://localhost:8080/",
          "height": 35
        },
        "outputId": "fd80c0a8-84cb-435e-f323-0e200a303a1f"
      },
      "source": [
        "# it can be used to change the sequence\n",
        "print('{1}+{0}={2}'.format(u,v,s))"
      ],
      "execution_count": null,
      "outputs": [
        {
          "output_type": "stream",
          "text": [
            "0.14285714285714285+0.8571428571428571=1.0\n"
          ],
          "name": "stdout"
        }
      ]
    },
    {
      "cell_type": "code",
      "metadata": {
        "id": "fR-nz7t_GAk2",
        "colab_type": "code",
        "colab": {
          "base_uri": "https://localhost:8080/",
          "height": 52
        },
        "outputId": "8f45c387-d9fc-4157-cf34-03ea5ae1cb5b"
      },
      "source": [
        "# you can also use it for formatting, just add to the trailing :\n",
        "print('{:.5f}+{:.5f}={:.5f}'.format(u,v,s))\n",
        "print('{1:.5f}+{0:.5f}={2:.5f}'.format(u,v,s))"
      ],
      "execution_count": null,
      "outputs": [
        {
          "output_type": "stream",
          "text": [
            "0.85714+0.14286=1.00000\n",
            "0.14286+0.85714=1.00000\n"
          ],
          "name": "stdout"
        }
      ]
    },
    {
      "cell_type": "code",
      "metadata": {
        "id": "R6uklRayGbRu",
        "colab_type": "code",
        "colab": {}
      },
      "source": [
        ""
      ],
      "execution_count": null,
      "outputs": []
    }
  ]
}