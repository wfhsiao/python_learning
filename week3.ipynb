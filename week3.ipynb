{
 "cells": [
  {
   "cell_type": "markdown",
   "metadata": {},
   "source": [
    "## 網路程式設計\n",
    "* <b>week 3 上課內容</b>"
   ]
  },
  {
   "cell_type": "code",
   "execution_count": 3,
   "metadata": {},
   "outputs": [
    {
     "name": "stdout",
     "output_type": "stream",
     "text": [
      "1.8\n"
     ]
    }
   ],
   "source": [
    "print(18/10)"
   ]
  },
  {
   "cell_type": "code",
   "execution_count": 4,
   "metadata": {},
   "outputs": [
    {
     "name": "stdout",
     "output_type": "stream",
     "text": [
      "1\n"
     ]
    }
   ],
   "source": [
    "print(18//10)"
   ]
  },
  {
   "cell_type": "code",
   "execution_count": 5,
   "metadata": {},
   "outputs": [
    {
     "name": "stdout",
     "output_type": "stream",
     "text": [
      "8\n"
     ]
    }
   ],
   "source": [
    "r = 18//10\n",
    "print(18 - r * 10)"
   ]
  },
  {
   "cell_type": "code",
   "execution_count": 6,
   "metadata": {},
   "outputs": [
    {
     "name": "stdout",
     "output_type": "stream",
     "text": [
      "8\n"
     ]
    }
   ],
   "source": [
    "print(18 % 10)"
   ]
  },
  {
   "cell_type": "markdown",
   "metadata": {},
   "source": [
    "<h4>求餘數</h4>"
   ]
  },
  {
   "cell_type": "code",
   "execution_count": 10,
   "metadata": {},
   "outputs": [
    {
     "name": "stdout",
     "output_type": "stream",
     "text": [
      "被除數= 18 除數= 10 商= 1 餘數= 8\n",
      "被除數=18, 除數=10, 商=1, 餘數=8\n"
     ]
    }
   ],
   "source": [
    "被除數=18\n",
    "除數=10\n",
    "商=被除數 // 除數\n",
    "餘數=被除數 - 除數*商\n",
    "print('被除數=', 被除數, '除數=', 除數, '商=', 商, '餘數=', 餘數)\n",
    "print('被除數={}, 除數={}, 商={}, 餘數={}'.format(被除數, 除數, 商, 餘數))"
   ]
  },
  {
   "cell_type": "markdown",
   "metadata": {},
   "source": [
    "#  if 判斷式\n",
    "* 1.1 單一判斷：if ...\n",
    "* 1.2 二分法判斷：if ... else\n",
    "* 1.3 多條件判斷：if ... elif ... else ..."
   ]
  },
  {
   "cell_type": "code",
   "execution_count": 11,
   "metadata": {},
   "outputs": [],
   "source": [
    "if 3 > 5:\n",
    "    print('3 大於 5')"
   ]
  },
  {
   "cell_type": "code",
   "execution_count": 12,
   "metadata": {},
   "outputs": [
    {
     "name": "stdout",
     "output_type": "stream",
     "text": [
      "3 沒有大於 5\n"
     ]
    }
   ],
   "source": [
    "if 3 > 5:\n",
    "    print('3 大於 5')\n",
    "else:\n",
    "    print('3 沒有大於 5')"
   ]
  },
  {
   "cell_type": "code",
   "execution_count": 15,
   "metadata": {},
   "outputs": [
    {
     "name": "stdout",
     "output_type": "stream",
     "text": [
      "6 沒有大於 15\n"
     ]
    }
   ],
   "source": [
    "a = 6\n",
    "b = 15\n",
    "if a>b:\n",
    "    print('{} 大於 {}'.format(a, b))\n",
    "else:\n",
    "    print('{} 沒有大於 {}'.format(a, b))"
   ]
  },
  {
   "cell_type": "markdown",
   "metadata": {},
   "source": [
    "成績90分(含)以上A<br />\n",
    "小於90, 大等於80分為B<br />\n",
    "小於80, 大等於70分為C<br />\n",
    "小於70, 大等於60分為D<br />\n",
    "小於60為F<br />"
   ]
  },
  {
   "cell_type": "code",
   "execution_count": 16,
   "metadata": {},
   "outputs": [
    {
     "name": "stdin",
     "output_type": "stream",
     "text": [
      "請輸入成績： 75\n"
     ]
    },
    {
     "name": "stdout",
     "output_type": "stream",
     "text": [
      "你的成績75分，等級是C\n"
     ]
    }
   ],
   "source": [
    "score = int(input('請輸入成績：'))\n",
    "if score>=90:\n",
    "    grade='A'\n",
    "elif score>=80:\n",
    "    grade='B'\n",
    "elif score>=70:\n",
    "    grade='C'\n",
    "    print('我進到這裏了!')\n",
    "elif score>=60:\n",
    "    grade='D'\n",
    "else:\n",
    "    grade='F'\n",
    "print('你的成績{}分，等級是{}'.format(score, grade))"
   ]
  },
  {
   "cell_type": "markdown",
   "metadata": {},
   "source": [
    "# 迴圈(loop)的結構與使用\n",
    "* 1. while loop\n",
    "* 2. for loop的結構與使用\n",
    "* 2.1 搭配 range 函式使用"
   ]
  },
  {
   "cell_type": "code",
   "execution_count": 19,
   "metadata": {},
   "outputs": [
    {
     "name": "stdout",
     "output_type": "stream",
     "text": [
      "yes\n",
      "yes\n",
      "yes\n",
      "yes\n",
      "yes\n"
     ]
    }
   ],
   "source": [
    "n=1\n",
    "while n<=5:\n",
    "    print('yes')\n",
    "    n+=1"
   ]
  },
  {
   "cell_type": "code",
   "execution_count": 22,
   "metadata": {},
   "outputs": [
    {
     "name": "stdout",
     "output_type": "stream",
     "text": [
      "hello hello hello hello hello "
     ]
    }
   ],
   "source": [
    "n=0\n",
    "while n<5: # 不小心變成無窮迴圈時，記得按終止按鈕\n",
    "    print('hello', end=' ') # end 用來指定結束字元, 這裏指定爲空白字元\n",
    "    n += 1"
   ]
  },
  {
   "cell_type": "code",
   "execution_count": 25,
   "metadata": {},
   "outputs": [
    {
     "name": "stdout",
     "output_type": "stream",
     "text": [
      "目前的i值是-1\n",
      "目前的i值是-2\n",
      "目前的i值是-3\n"
     ]
    }
   ],
   "source": [
    "for i in [-1, -2, -3]:\n",
    "    print('目前的i值是{}'.format(i))"
   ]
  },
  {
   "cell_type": "code",
   "execution_count": 26,
   "metadata": {},
   "outputs": [
    {
     "name": "stdout",
     "output_type": "stream",
     "text": [
      "T h i s   i s   f u n n y "
     ]
    }
   ],
   "source": [
    "for i in 'This is funny':\n",
    "    print('{}'.format(i), end=' ')"
   ]
  },
  {
   "cell_type": "code",
   "execution_count": 27,
   "metadata": {},
   "outputs": [
    {
     "name": "stdout",
     "output_type": "stream",
     "text": [
      "0,1,2,3,4,5,6,7,8,9,"
     ]
    }
   ],
   "source": [
    "for i in [0, 1, 2, 3, 4, 5, 6, 7, 8, 9]:\n",
    "    print('{}'.format(i), end=',')"
   ]
  },
  {
   "cell_type": "code",
   "execution_count": 28,
   "metadata": {},
   "outputs": [
    {
     "name": "stdout",
     "output_type": "stream",
     "text": [
      "0,1,2,3,4,5,6,7,8,9,"
     ]
    }
   ],
   "source": [
    "for i in range(10):\n",
    "    print('{}'.format(i), end=',')"
   ]
  },
  {
   "cell_type": "markdown",
   "metadata": {},
   "source": [
    "range([起始值, ]終止值[, 遞增量])\n",
    "起始值可以不寫，預設值是0\n",
    "遞增量可以不寫，預設值是1"
   ]
  },
  {
   "cell_type": "code",
   "execution_count": 30,
   "metadata": {},
   "outputs": [
    {
     "name": "stdout",
     "output_type": "stream",
     "text": [
      "0 1 2 3 4 5 6 7 8 9\n",
      "1 2 3 4 5 6 7 8 9 10\n",
      "1 3 5 7 9\n",
      "11 10 9 8 7 6 5 4 3 2\n",
      "11 9 7 5 3\n"
     ]
    }
   ],
   "source": [
    "print(*range(10)) # 記得加星號\n",
    "print(*range(1,11))\n",
    "print(*range(1, 11, 2))\n",
    "print(*range(11, 1, -1))\n",
    "print(*range(11, 1, -2))"
   ]
  },
  {
   "cell_type": "markdown",
   "metadata": {},
   "source": [
    "# 搭配迴圈的命令\n",
    "* break 強制結束迴圈\n",
    "* continue 強制進入下一圈"
   ]
  },
  {
   "cell_type": "code",
   "execution_count": 33,
   "metadata": {},
   "outputs": [
    {
     "name": "stdout",
     "output_type": "stream",
     "text": [
      "奇數3 5 11 17 和為36\n"
     ]
    }
   ],
   "source": [
    "s = 0\n",
    "output=''\n",
    "for i in [3, 4, 5, 8, 11, 17, 6]:\n",
    "    if i%2==0:\n",
    "        continue\n",
    "    else:\n",
    "        output+= str(i) + ' '\n",
    "        s += i\n",
    "print('奇數{}和為{}'.format(output,s))"
   ]
  },
  {
   "cell_type": "markdown",
   "metadata": {},
   "source": [
    "# else 迴圈結構：迴圈結束時執行一次的區塊"
   ]
  },
  {
   "cell_type": "code",
   "execution_count": 36,
   "metadata": {},
   "outputs": [
    {
     "name": "stdout",
     "output_type": "stream",
     "text": [
      "奇數3+5+11+17=144\n"
     ]
    }
   ],
   "source": [
    "output=''\n",
    "for i in [3, 4, 5, 8, 11, 17, 6]:\n",
    "    if i%2==0:\n",
    "        continue\n",
    "    else:\n",
    "        output += str(i) + '+'\n",
    "        s += i\n",
    "else:\n",
    "    output=output[:-1]+ '='\n",
    "    print('奇數{}{}'.format(output,s))"
   ]
  },
  {
   "cell_type": "markdown",
   "metadata": {},
   "source": [
    "# 求平方根\n",
    "* math.sqrt(81)"
   ]
  },
  {
   "cell_type": "code",
   "execution_count": 37,
   "metadata": {},
   "outputs": [
    {
     "data": {
      "text/plain": [
       "9.0"
      ]
     },
     "execution_count": 37,
     "metadata": {},
     "output_type": "execute_result"
    }
   ],
   "source": [
    "import math\n",
    "math.sqrt(81)"
   ]
  },
  {
   "cell_type": "code",
   "execution_count": 42,
   "metadata": {},
   "outputs": [
    {
     "name": "stdin",
     "output_type": "stream",
     "text": [
      "請輸入一正數: 3\n"
     ]
    },
    {
     "name": "stdout",
     "output_type": "stream",
     "text": [
      "3.0 1.732050821185112 3.0000000471680206\n"
     ]
    }
   ],
   "source": [
    "n=float(input('請輸入一正數:'))\n",
    "s=0\n",
    "e=n\n",
    "v=(s+e)/2\n",
    "while v*v != n:\n",
    "    if abs(v*v- n)< 1E-7:\n",
    "        break\n",
    "    elif v*v < n:\n",
    "        s = v\n",
    "    else:\n",
    "        e = v\n",
    "    v=(s+e)/2\n",
    "    \n",
    "print(n, v, v*v)"
   ]
  },
  {
   "cell_type": "code",
   "execution_count": null,
   "metadata": {},
   "outputs": [],
   "source": []
  }
 ],
 "metadata": {
  "kernelspec": {
   "display_name": "Python 3",
   "language": "python",
   "name": "python3"
  },
  "language_info": {
   "codemirror_mode": {
    "name": "ipython",
    "version": 3
   },
   "file_extension": ".py",
   "mimetype": "text/x-python",
   "name": "python",
   "nbconvert_exporter": "python",
   "pygments_lexer": "ipython3",
   "version": "3.6.6"
  }
 },
 "nbformat": 4,
 "nbformat_minor": 2
}
